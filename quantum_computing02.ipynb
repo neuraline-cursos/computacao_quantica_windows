{
 "cells": [
  {
   "cell_type": "markdown",
   "metadata": {},
   "source": [
    "<h3>COMPUTAÇÃO QUÂNTICA</h3>\n",
    "<hr>\n",
    "<h4>Codificação de Algoritmos para Simulação Quântica</h4>"
   ]
  },
  {
   "cell_type": "markdown",
   "metadata": {},
   "source": [
    "<h5>Importação das Classes para Manipulação de Dados Quânticos</h5>"
   ]
  },
  {
   "cell_type": "code",
   "execution_count": 1,
   "metadata": {},
   "outputs": [],
   "source": [
    "# importação das classes que serão usadas no algoritmo de simulação quântica\n",
    "from Neuraline.QuantumPhysics.quantum_computing import QUANTUM_COMPUTER # importação do objeto quântico\n",
    "from Neuraline.QuantumPhysics.quantum_simulation import QuantumSimulation # importação da classe do algoritmo de simulação"
   ]
  },
  {
   "cell_type": "markdown",
   "metadata": {},
   "source": [
    "<h5>Codificação do Algoritmo de Simulação Quântica</h5>"
   ]
  },
  {
   "cell_type": "markdown",
   "metadata": {},
   "source": [
    "<sup><b>ALGORITMO DE SIMULAÇÃO QUÂNTICA PARA CLASSIFICAÇÃO</b></sup>"
   ]
  },
  {
   "cell_type": "code",
   "execution_count": 4,
   "metadata": {},
   "outputs": [
    {
     "name": "stdout",
     "output_type": "stream",
     "text": [
      "Nível de incerteza no resultado: 0.008484503808461812\n",
      "Teste probabilístico: {'assertiveness': 0.747500630510827, 'error': 0.25249936948917295}\n",
      "Resultado classificativo: [[1], [10], [100], [1], [10], [100], [1], [10], [100]]\n"
     ]
    }
   ],
   "source": [
    "# ALGORITMO DE SIMULAÇÃO QUÂNTICA PARA CLASSIFICAÇÃO\n",
    "quantum_simulation = QuantumSimulation( # instanciação do objeto da classe do algoritmo de simulação\n",
    "    architecture=QUANTUM_COMPUTER, # arquitetura de acesso remoto a máquina quântica\n",
    "    qubits=5, # número de qubits, quanto maior o número mais rápida será a simulação\n",
    "    # o número de qubits deverá acompanhar a proporção de variáveis representando dados quânticos\n",
    "    # quanto menor for a quantidade de variáveis representando fenômenos quânticos, menor deverá ser o número de qubits\n",
    "    superpositions=0, # número de qubits definidos no parâmetro anterior que permanecerão em estado de sobreposição\n",
    "    # quanto menor o número de sobreposições quânticas, maior será a precisão no resultado\n",
    ") # quanto maior a decoerência quântica nos dados, menor deverá ser o número de qubits utilizados\n",
    "# exibição do número percentual (entre 0 e 1) referente ao nível de incerteza na arquitetura do construtor acima\n",
    "# a incerteza irá variar sutilmente em decorrência da aleatoriedade na escala quântica\n",
    "print(f'Nível de incerteza no resultado: {quantum_simulation.HEISENBERG_UNCERTAINTY}') # incerteza de heisenberg\n",
    "# matriz de dados para as amostras de entrada (poderá ter qualquer dimensionalidade)\n",
    "inputs = [[1, 2], [10, 20], [100, 200], [3, 4], [30, 40], [300, 400], [5, 6], [50, 60], [500, 600]]\n",
    "# matriz de dados com uma amostra de saída para cada entrada (poderá ter qualquer dimensionalidade)\n",
    "outputs = [[1], [10], [100], [1], [10], [100], [1], [10], [100]] # 1: unidades, 10: dezenas, 100: centenas\n",
    "# treinamento da simulação para a abstração de padrões\n",
    "quantum_simulation.fit( # método de treinamento do circuito de simulação quântica\n",
    "    inputs=inputs, # atribuição da matriz de entrada do treinamento\n",
    "    outputs=outputs # atribuição da matriz de saída do treinamento\n",
    ") # se o modelo for salvo com o método saveModel não precisará ser treinado novamente\n",
    "# nova matriz com dados inéditos para o teste preditivo\n",
    "new_inputs = [[2, 3], [20, 30], [200, 300], [4, 5], [40, 50], [400, 500], [6, 7], [60, 70], [600, 700]]\n",
    "# testa os resultados das entradas; assertiveness: percentual de assertividade; error: percentual de erro\n",
    "result_test = quantum_simulation.testINPUTS( # retorna um dicionário com o percentual de assertividade e de erro\n",
    "    inputs=new_inputs, # entradas a serem testadas\n",
    "    outputs=[[1], [10], [100], [1], [10], [100], [1], [10], [100]] # resultados esperados\n",
    ") # retorna valores percentuais entre 0 e 1 para cada uma das chaves (assertiveness e error)\n",
    "print(f'Teste probabilístico: {result_test}')\n",
    "new_outputs = quantum_simulation.predict( # método de medição dos estados quânticos como clássicos\n",
    "    inputs=new_inputs # atribuição da matriz de entrada da predição\n",
    ")\n",
    "# ajuste dos resultados com base na escala\n",
    "for i, output in enumerate(new_outputs): # loop para percorrer a lista de resultados\n",
    "    if output[0] < 10: new_outputs[i][0] = 1 # se for qualquer número menor que 10 atualiza para 1\n",
    "    elif output[0] < 100: new_outputs[i][0] = 10 # se for qualquer número menor que 100 atualiza para 10\n",
    "    else: new_outputs[i][0] = 100 # se for qualquer número maior ou igual a 100 atualiza para 100\n",
    "print(f'Resultado classificativo: {new_outputs}') # exibição do resultado preditivo\n"
   ]
  },
  {
   "cell_type": "markdown",
   "metadata": {},
   "source": [
    "<sup><b>ALGORITMO DE SIMULAÇÃO QUÂNTICA PARA REGRESSÃO</b></sup>"
   ]
  },
  {
   "cell_type": "code",
   "execution_count": 5,
   "metadata": {},
   "outputs": [
    {
     "name": "stdout",
     "output_type": "stream",
     "text": [
      "Nível de incerteza no resultado: 0.001982206053748362\n",
      "Teste probabilístico das entradas: {'assertiveness': 0.998258118464288, 'error': 0.0017418815357119755}\n",
      "Resultado regressivo original (de saída): [[5.000792922665565], [8.956181253177336], [12.934051219728884]]\n",
      "Resultado regressivo convertido (de saída): [[5], [9], [13]]\n",
      "Teste probabilístico das saídas: {'assertiveness': 0.9981718777178918, 'error': 0.0018281222821081577}\n",
      "Resultado regressivo convertido (de entrada): [[2, 3], [4, 5], [6, 7]]\n"
     ]
    }
   ],
   "source": [
    "# ALGORITMO DE SIMULAÇÃO QUÂNTICA PARA REGRESSÃO\n",
    "quantum_simulation = QuantumSimulation( # instanciação do objeto da classe do algoritmo de simulação\n",
    "    architecture=QUANTUM_COMPUTER, # arquitetura de acesso remoto a máquina quântica\n",
    "    qubits=5, # número de qubits, quanto maior o número mais rápida será a simulação\n",
    "    # o número de qubits deverá acompanhar a proporção de variáveis representando dados quânticos\n",
    "    # quanto menor for a quantidade de variáveis representando fenômenos quânticos, menor deverá ser o número de qubits\n",
    "    superpositions=0, # número de qubits definidos no parâmetro anterior que permanecerão em estado de sobreposição\n",
    "    # quanto menor o número de sobreposições quânticas, maior será a precisão no resultado\n",
    ") # quanto maior a decoerência quântica nos dados, menor deverá ser o número de qubits utilizados\n",
    "# exibição do número percentual (entre 0 e 1) referente ao nível de incerteza na arquitetura do construtor acima\n",
    "# a incerteza irá variar sutilmente em decorrência da aleatoriedade na escala quântica\n",
    "print(f'Nível de incerteza no resultado: {quantum_simulation.HEISENBERG_UNCERTAINTY}') # incerteza de heisenberg\n",
    "# matriz de dados para as amostras de entrada (poderá ter qualquer dimensionalidade)\n",
    "inputs = [[1, 2], [3, 4], [5, 6], [7, 8], [9, 10], [11, 12], [13, 14], [15, 16], [17, 18], [19, 20]]\n",
    "# matriz de dados com uma amostra de saída para cada entrada (poderá ter qualquer dimensionalidade)\n",
    "outputs = [[3], [7], [11], [15], [19], [23], [27], [31], [35], [39]] # padrão de soma das entradas\n",
    "# treinamento da simulação para a abstração de padrões\n",
    "quantum_simulation.fit( # método de treinamento do circuito de simulação quântica\n",
    "    inputs=inputs, # atribuição da matriz de entrada do treinamento\n",
    "    outputs=outputs # atribuição da matriz de saída do treinamento\n",
    ") # se o modelo for salvo com o método saveModel não precisará ser treinado novamente\n",
    "new_inputs = [[2, 3], [4, 5], [6, 7]] # nova matriz com dados inéditos para o teste preditivo\n",
    "# testa os resultados das entradas; assertiveness: percentual de assertividade; error: percentual de erro\n",
    "# o teste é feito com base nas respostas originais sem conversão\n",
    "result_test = quantum_simulation.testINPUTS( # retorna um dicionário com o percentual de assertividade e de erro\n",
    "    inputs=new_inputs, # entradas a serem testadas\n",
    "    outputs=[[5], [9], [13]] # resultados esperados\n",
    ") # retorna valores percentuais entre 0 e 1 para cada uma das chaves (assertiveness e error)\n",
    "print(f'Teste probabilístico das entradas: {result_test}')\n",
    "new_outputs = quantum_simulation.predict( # método de medição dos estados quânticos como clássicos\n",
    "    inputs=new_inputs # atribuição da matriz de entrada da predição\n",
    ")\n",
    "print(f'Resultado regressivo original (de saída): {new_outputs}') # exibição do resultado preditivo\n",
    "# para converter os dados basta utilizar o parâmetro convert no método preditivo\n",
    "new_outputs = quantum_simulation.predict( # método de medição dos estados quânticos como clássicos\n",
    "    inputs=new_inputs, # atribuição da matriz de entrada da predição\n",
    "    convert=int # converte os valores de resposta para o tipo especificado\n",
    ")\n",
    "print(f'Resultado regressivo convertido (de saída): {new_outputs}') # exibição do resultado preditivo\n",
    "# também é possível prever as entradas com base nas saídas\n",
    "new_outputs = [[5], [9], [13]] # nova matriz com dados inéditos para o teste preditivo\n",
    "# testa os resultados das saídas; assertiveness: percentual de assertividade; error: percentual de erro\n",
    "# o teste é feito com base nas respostas originais sem conversão\n",
    "result_test = quantum_simulation.testOUTPUTS( # retorna um dicionário com o percentual de assertividade e de erro\n",
    "    inputs=new_outputs, # saídas a serem testadas\n",
    "    outputs=[[2, 3], [4, 5], [6, 7]] # resultados esperados\n",
    ") # retorna valores percentuais entre 0 e 1 para cada uma das chaves (assertiveness e error)\n",
    "print(f'Teste probabilístico das saídas: {result_test}')\n",
    "new_inputs = quantum_simulation.predict( # método de medição dos estados quânticos como clássicos\n",
    "    outputs=new_outputs, # atribuição da matriz de entrada da predição\n",
    "    convert=int # converte os valores de resposta para o tipo especificado\n",
    ")\n",
    "print(f'Resultado regressivo convertido (de entrada): {new_inputs}') # exibição do resultado preditivo\n"
   ]
  },
  {
   "cell_type": "markdown",
   "metadata": {},
   "source": [
    "<sup><b>ALGORITMO DE SIMULAÇÃO QUÂNTICA PARA SEQUENCIAMENTO</b></sup>"
   ]
  },
  {
   "cell_type": "code",
   "execution_count": 7,
   "metadata": {},
   "outputs": [
    {
     "name": "stdout",
     "output_type": "stream",
     "text": [
      "Nível de incerteza no resultado: 0.008690578101223128\n",
      "Resultado regressivo original: [[20.894888284383274, 21.997970465964574], [22.897571924232192, 24.002980459405386]]\n",
      "Resultado regressivo convertido: [[21, 22], [23, 24]]\n"
     ]
    }
   ],
   "source": [
    "# ALGORITMO DE SIMULAÇÃO QUÂNTICA PARA SEQUENCIAMENTO\n",
    "quantum_simulation = QuantumSimulation( # instanciação do objeto da classe do algoritmo de simulação\n",
    "    architecture=QUANTUM_COMPUTER, # arquitetura de acesso remoto a máquina quântica\n",
    "    qubits=5, # número de qubits, quanto maior o número mais rápida será a simulação\n",
    "    # o número de qubits deverá acompanhar a proporção de variáveis representando dados quânticos\n",
    "    # quanto menor for a quantidade de variáveis representando fenômenos quânticos, menor deverá ser o número de qubits\n",
    "    superpositions=0, # número de qubits definidos no parâmetro anterior que permanecerão em estado de sobreposição\n",
    "    # quanto menor o número de sobreposições quânticas, maior será a precisão no resultado\n",
    ") # quanto maior a decoerência quântica nos dados, menor deverá ser o número de qubits utilizados\n",
    "# exibição do número percentual (entre 0 e 1) referente ao nível de incerteza na arquitetura do construtor acima\n",
    "# a incerteza irá variar sutilmente em decorrência da aleatoriedade na escala quântica\n",
    "print(f'Nível de incerteza no resultado: {quantum_simulation.HEISENBERG_UNCERTAINTY}') # incerteza de heisenberg\n",
    "# matriz de dados para as amostras de entrada (poderá ter qualquer dimensionalidade)\n",
    "inputs = [[1, 2], [3, 4], [5, 6], [7, 8], [9, 10], [11, 12], [13, 14], [15, 16], [17, 18], [19, 20]]\n",
    "# treinamento da simulação para a abstração de padrões\n",
    "quantum_simulation.fit( # método de treinamento do circuito de simulação quântica\n",
    "    inputs=inputs, # atribuição da matriz de entrada do treinamento\n",
    ") # se o modelo for salvo com o método saveModel não precisará ser treinado novamente\n",
    "new_inputs = quantum_simulation.predictSequence( # método de medição dos estados quânticos como clássicos\n",
    "    predictions=2 # atribuição do número de resultados preditivos na resposta\n",
    ")\n",
    "print(f'Resultado regressivo original: {new_inputs}') # exibição do resultado preditivo\n",
    "# para converter os dados basta utilizar o parâmetro convert no método preditivo\n",
    "quantum_simulation.HEISENBERG_UNCERTAINTY = 0 # zera a incerteza de heisenberg para a precisão inteira\n",
    "new_inputs = quantum_simulation.predictSequence( # método de medição dos estados quânticos como clássicos\n",
    "    predictions=2, # atribuição do número de resultados preditivos na resposta\n",
    "    convert=int # converte os valores de resposta para o tipo especificado\n",
    ")\n",
    "print(f'Resultado regressivo convertido: {new_inputs}') # exibição do resultado preditivo"
   ]
  },
  {
   "cell_type": "markdown",
   "metadata": {},
   "source": [
    "<h5>Salvamento e Carregamento de Modelos Pré-treinados</h5>"
   ]
  },
  {
   "cell_type": "code",
   "execution_count": 10,
   "metadata": {},
   "outputs": [
    {
     "name": "stdout",
     "output_type": "stream",
     "text": [
      "Nível de incerteza no resultado: 0.009372332820014729\n",
      "Modelo quântico salvo com sucesso.\n"
     ]
    }
   ],
   "source": [
    "# CÓDIGO DE SALVAMENTO DO MODELO QUÂNTICO (FUNCIONA COM QUALQUER TIPO DE TREINAMENTO)\n",
    "quantum_simulation = QuantumSimulation( # instanciação do objeto da classe do algoritmo de simulação\n",
    "    architecture=QUANTUM_COMPUTER, # arquitetura de acesso remoto a máquina quântica\n",
    "    qubits=5, # número de qubits, quanto maior o número mais rápida será a simulação\n",
    "    # o número de qubits deverá acompanhar a proporção de variáveis representando dados quânticos\n",
    "    # quanto menor for a quantidade de variáveis representando fenômenos quânticos, menor deverá ser o número de qubits\n",
    "    superpositions=0, # número de qubits definidos no parâmetro anterior que permanecerão em estado de sobreposição\n",
    "    # quanto menor o número de sobreposições quânticas, maior será a precisão no resultado\n",
    ") # quanto maior a decoerência quântica nos dados, menor deverá ser o número de qubits utilizados\n",
    "# exibição do número percentual (entre 0 e 1) referente ao nível de incerteza na arquitetura do construtor acima\n",
    "# a incerteza irá variar sutilmente em decorrência da aleatoriedade na escala quântica\n",
    "print(f'Nível de incerteza no resultado: {quantum_simulation.HEISENBERG_UNCERTAINTY}') # incerteza de heisenberg\n",
    "# matriz de dados para as amostras de entrada (poderá ter qualquer dimensionalidade)\n",
    "inputs = [[1, 2], [3, 4], [5, 6], [7, 8], [9, 10], [11, 12], [13, 14], [15, 16], [17, 18], [19, 20]]\n",
    "# matriz de dados com uma amostra de saída para cada entrada (poderá ter qualquer dimensionalidade)\n",
    "# padrão que soma e repete os valores das entradas\n",
    "outputs = [[3, 3], [7, 7], [11, 11], [15, 15], [19, 19], [23, 23], [27, 27], [31, 31], [35, 35], [39, 39]]\n",
    "# treinamento da simulação para a abstração de padrões\n",
    "quantum_simulation.fit( # método de treinamento do circuito de simulação quântica\n",
    "    inputs=inputs, # atribuição da matriz de entrada do treinamento\n",
    "    outputs=outputs # atribuição da matriz de saída do treinamento\n",
    ") # se o modelo for salvo com o método saveModel não precisará ser treinado novamente\n",
    "result = quantum_simulation.saveModel( # método de salvamento do modelo\n",
    "    url_path='modelo_simulativo' # nome do arquivo modelo da simulação que será salva\n",
    "    # se nenhum diretório for especificado antes do nome o arquivo será gerado no diretório atual\n",
    ")\n",
    "if result: print('Modelo quântico salvo com sucesso.')\n",
    "else: print('Erro ao salvar o modelo quântico.')"
   ]
  },
  {
   "cell_type": "code",
   "execution_count": 11,
   "metadata": {},
   "outputs": [
    {
     "name": "stdout",
     "output_type": "stream",
     "text": [
      "Resultado regressivo convertido: [[5, 5], [9, 9], [13, 13]]\n"
     ]
    }
   ],
   "source": [
    "# CÓDIGO DE CARREGAMENTO DO MODELO QUÂNTICO (FUNCIONA COM QUALQUER TIPO DE PREDIÇÃO)\n",
    "# serão carregados os parâmetros do construtor do modelo que foi salvo anteriormente\n",
    "quantum_simulation = QuantumSimulation() # instanciação do objeto da classe do algoritmo de simulação\n",
    "# a nova instanciação da classe acima irá construir um novo objeto zerado sem nenhum treinamento\n",
    "result = quantum_simulation.loadModel( # método de carregamento do modelo\n",
    "    url_path='modelo_simulativo' # nome do arquivo modelo da simulação que será carregado\n",
    "    # se nenhum diretório for especificado antes do nome o arquivo será procurado no diretório atual\n",
    ")\n",
    "new_inputs = [[2, 3], [4, 5], [6, 7]] # nova matriz com dados inéditos para o teste preditivo\n",
    "# para converter os dados basta utilizar o parâmetro convert no método preditivo\n",
    "new_outputs = quantum_simulation.predict( # método de medição dos estados quânticos como clássicos\n",
    "    inputs=new_inputs, # atribuição da matriz de entrada da predição\n",
    "    convert=int # converte os valores de resposta para o tipo especificado\n",
    ")\n",
    "print(f'Resultado regressivo convertido: {new_outputs}') # exibição do resultado preditivo"
   ]
  },
  {
   "cell_type": "markdown",
   "metadata": {},
   "source": [
    "<hr>"
   ]
  },
  {
   "cell_type": "markdown",
   "metadata": {},
   "source": [
    "<h5>Simulação Quântica em uma Aplicação do Mundo Real</h5>"
   ]
  },
  {
   "cell_type": "code",
   "execution_count": 16,
   "metadata": {},
   "outputs": [
    {
     "name": "stdout",
     "output_type": "stream",
     "text": [
      "Nível de incerteza no resultado: 0.0001316125052906736\n"
     ]
    },
    {
     "data": {
      "image/png": "[encoded data removed]",
      "text/plain": [
       "<Figure size 576x288 with 1 Axes>"
      ]
     },
     "metadata": {
      "needs_background": "light"
     },
     "output_type": "display_data"
    },
    {
     "name": "stdout",
     "output_type": "stream",
     "text": [
      "(Simulação quântica treinada, executada e plotada com sucesso)\n"
     ]
    }
   ],
   "source": [
    "# CÓDIGO PARA PREVISÃO DE DADOS CLIMÁTICOS DO AQUECIMENTO GLOBAL\n",
    "# importação das classes que serão usadas no algoritmo de simulação quântica\n",
    "from Neuraline.QuantumPhysics.quantum_computing import QUANTUM_COMPUTER # importação do objeto quântico\n",
    "from Neuraline.QuantumPhysics.quantum_simulation import QuantumSimulation # importação da classe do algoritmo de simulação\n",
    "from Neuraline.Utilities.data import DataExploration # classe para exploração de dados\n",
    "from Neuraline.Utilities.chart import Chart # classe para plotagem de dados gráficos\n",
    "data_exploration, chart = DataExploration(), Chart() # instanciação dos objetos das classes de exploração e plotagem\n",
    "quantum_simulation = QuantumSimulation( # instanciação do objeto da classe do algoritmo de simulação\n",
    "    architecture=QUANTUM_COMPUTER, # arquitetura de acesso remoto a máquina quântica\n",
    "    qubits=5, # número de qubits, quanto maior o número mais rápida será a simulação\n",
    "    # o número de qubits deverá acompanhar a proporção de variáveis representando dados quânticos\n",
    "    # quanto menor for a quantidade de variáveis representando fenômenos quânticos, menor deverá ser o número de qubits\n",
    "    superpositions=0, # número de qubits definidos no parâmetro anterior que permanecerão em estado de sobreposição\n",
    "    # quanto menor o número de sobreposições quânticas, maior será a precisão no resultado\n",
    ") # quanto maior a decoerência quântica nos dados, menor deverá ser o número de qubits utilizados\n",
    "# exibição do número percentual (entre 0 e 1) referente ao nível de incerteza na arquitetura do construtor acima\n",
    "# a incerteza irá variar sutilmente em decorrência da aleatoriedade na escala quântica\n",
    "print(f'Nível de incerteza no resultado: {quantum_simulation.HEISENBERG_UNCERTAINTY}') # incerteza de heisenberg\n",
    "# endereço remoto do arquivo csv com os dados climáticos do planeta\n",
    "url_data = 'https://pkgstore.datahub.io/core/global-temp/annual_csv/data/a26b154688b061cdd04f1df36e4408be/annual_csv.csv'\n",
    "# colunas na tabela da fonte de dados:\n",
    "# Source: fonte da informação\n",
    "# Year: ano em que a temperatura média foi calculada\n",
    "# Mean: temperatura média do planeta em graus celsius\n",
    "# separa um percentual dos dados para teste e outro para treinamento\n",
    "x_training, y_training, x_test, y_test = data_exploration.dataSeparationCSV( # separação dos dados em listas\n",
    "    url_path=url_data, # atribuição do endereço do arquivo de dados\n",
    "    list_inputs=['Year'], # título da coluna de entrada\n",
    "    list_outputs=['Mean'], # título da coluna de saída\n",
    "    training_percentage=.5, # 50% dos dados para treinamento\n",
    "    test_percentage=.5 # 50% dos dados para teste\n",
    ")\n",
    "# treinamento da simulação para a abstração dos padrões\n",
    "quantum_simulation.fit( # método de treinamento do circuito de simulação quântica\n",
    "    inputs=x_training, # atribuição da matriz de entrada do treinamento\n",
    "    outputs=y_training # atribuição da matriz de saída do treinamento\n",
    ") # se o modelo for salvo com o método saveModel não precisará ser treinado novamente\n",
    "# predição da simulação para a aplicação dos padrões abstraídos no treinamento\n",
    "new_outputs = quantum_simulation.predict( # método de medição dos estados quânticos como clássicos\n",
    "    inputs=x_test # atribuição da matriz de entrada da predição\n",
    ")\n",
    "# plotagem comparativa entre os dados esperados (teste) com os dados preditos (resultado)\n",
    "chart.plotMATRIX( # plotagem do gráfico de linhas\n",
    "    matrix1=y_test, # atribuição da lista com os dados esperados (linha azul/INPUT)\n",
    "    matrix2=new_outputs # atribuição da lista com os dados preditos (linha laranja/OUTPUT)\n",
    ")\n",
    "if len(new_outputs) > 0: print('(Simulação quântica treinada, executada e plotada com sucesso)')\n",
    "else: print('(Erro ao treinar, executar e/ou plotar a simulação quântica)')"
   ]
  }
 ],
 "metadata": {
  "kernelspec": {
   "display_name": "Python 3.10.4 64-bit",
   "language": "python",
   "name": "python3"
  },
  "language_info": {
   "codemirror_mode": {
    "name": "ipython",
    "version": 3
   },
   "file_extension": ".py",
   "mimetype": "text/x-python",
   "name": "python",
   "nbconvert_exporter": "python",
   "pygments_lexer": "ipython3",
   "version": "3.10.6"
  },
  "orig_nbformat": 4,
  "vscode": {
   "interpreter": {
    "hash": "916dbcbb3f70747c44a77c7bcd40155683ae19c65e1c03b4aa3499c5328201f1"
   }
  }
 },
 "nbformat": 4,
 "nbformat_minor": 2
}
