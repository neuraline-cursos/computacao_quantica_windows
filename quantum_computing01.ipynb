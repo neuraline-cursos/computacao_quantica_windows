{
 "cells": [
  {
   "cell_type": "markdown",
   "metadata": {},
   "source": [
    "<h3>COMPUTAÇÃO QUÂNTICA</h3>\n",
    "<hr>\n",
    "<h4>Construção da Arquitetura e Engenharia de Circuitos Quânticos</h4>"
   ]
  },
  {
   "cell_type": "markdown",
   "metadata": {},
   "source": [
    "<h5>Importação das Classes para Manipulação de Dados Quânticos</h5>"
   ]
  },
  {
   "cell_type": "code",
   "execution_count": 1,
   "metadata": {},
   "outputs": [],
   "source": [
    "# importação das arquiteturas de construção e execução\n",
    "# CLASSICAL_COMPUTER: objeto para utilização da máquina local\n",
    "# QUANTUM_SIMULATOR: objeto para utilização de uma máquina remota com arquitetura clássica que simula aspéctos quânticos\n",
    "# QUANTUM_COMPUTER: objeto para utilização de uma máquina remota com arquitetura quântica de 5 qubits reais e os restantes simulados\n",
    "from Neuraline.QuantumPhysics.quantum_computing import CLASSICAL_COMPUTER, QUANTUM_SIMULATOR, QUANTUM_COMPUTER\n",
    "from Neuraline.QuantumPhysics.quantum_computing import QuantumCircuit # classe para construção do circuito quântico"
   ]
  },
  {
   "cell_type": "markdown",
   "metadata": {},
   "source": [
    "<h5>Construção do Circuito Quântico</h5>"
   ]
  },
  {
   "cell_type": "code",
   "execution_count": 3,
   "metadata": {},
   "outputs": [],
   "source": [
    "# ARQUITETURA CLÁSSICA COM A MÁQUINA LOCAL\n",
    "quantum_circuit = QuantumCircuit( # instanciação do objeto responsável pela criação do circuito local\n",
    "    architecture=CLASSICAL_COMPUTER # arquitetura de acesso a máquina clássica local\n",
    ") # todos os qubits serão simulados na arquitetura clássica da máquina local"
   ]
  },
  {
   "cell_type": "code",
   "execution_count": 7,
   "metadata": {},
   "outputs": [],
   "source": [
    "# ARQUITETURA QUÂNTICA SIMULADA NA MÁQUINA REMOTA\n",
    "quantum_circuit = QuantumCircuit( # instanciação do objeto responsável pela criação do circuito simulado\n",
    "    architecture=QUANTUM_SIMULATOR # arquitetura de acesso remoto a máquina quântica simulada\n",
    ") # todos os qubits serão simulados com aceleração de hardware na máquina remota"
   ]
  },
  {
   "cell_type": "code",
   "execution_count": 27,
   "metadata": {},
   "outputs": [],
   "source": [
    "# ARQUITETURA QUÂNTICA REAL NA MÁQUINA REMOTA\n",
    "quantum_circuit = QuantumCircuit( # instanciação do objeto responsável pela criação do circuito quântico\n",
    "    architecture=QUANTUM_COMPUTER # arquitetura de acesso remoto a máquina quântica real\n",
    ") # configurações com até 5 qubits terão qubits reais, acima de 5 o restante dos qubits serão simulados"
   ]
  },
  {
   "cell_type": "code",
   "execution_count": 28,
   "metadata": {},
   "outputs": [
    {
     "name": "stdout",
     "output_type": "stream",
     "text": [
      "|Q0>: ───────H───\n",
      "\n",
      "|Q1>: ───────────\n",
      "Engenharia quântica gravada com sucesso.\n",
      "Resultado da medição: {'|00>': 0.5, '|01>': 0.0, '|10>': 0.5, '|11>': 0.0}\n",
      "╒══════╤═════════════════╤═══════════════╕\n",
      "│ ID   │ QUANTUM STATE   │ PROBABILITY   │\n",
      "╞══════╪═════════════════╪═══════════════╡\n",
      "│ 1    │ |00>            │ 0.5000000000  │\n",
      "├──────┼─────────────────┼───────────────┤\n",
      "│ 2    │ |10>            │ 0.5000000000  │\n",
      "├──────┼─────────────────┼───────────────┤\n",
      "│ 3    │ |01>            │ 0.0000000000  │\n",
      "├──────┼─────────────────┼───────────────┤\n",
      "│ 4    │ |11>            │ 0.0000000000  │\n",
      "╘══════╧═════════════════╧═══════════════╛\n",
      "Tabela de probabilidades para os estados quânticos gerada com sucesso.\n"
     ]
    },
    {
     "data": {
      "image/png": "[encoded data removed]",
      "text/plain": [
       "<Figure size 576x288 with 1 Axes>"
      ]
     },
     "metadata": {
      "needs_background": "light"
     },
     "output_type": "display_data"
    },
    {
     "name": "stdout",
     "output_type": "stream",
     "text": [
      "Gráfico de probabilidades para os estados quânticos gerado com sucesso.\n",
      "Estado quântico de maior probabilidade: |00>\n",
      "Estado clássico de maior probabilidade: 0\n"
     ]
    }
   ],
   "source": [
    "# seta o número de qubits (bits quânticos) na arquitetura do circuito quântico\n",
    "quantum_circuit.setQubits( # monta a grade quântica do circuito\n",
    "    nqubits=2 # número de qubits utilizados na montagem da grade quântica\n",
    ")\n",
    "# adiciona portas quânticas a grade quântica\n",
    "'''\n",
    "A porta hadamard coloca o qubit em estado de sobreposição\n",
    "com probabilidades iguais para todos os estados possíveis.\n",
    "'''\n",
    "quantum_circuit.addHadamardGATE( # adiciona a porta hadamard no qubit de índice 0\n",
    "    qubitIndexName=0, # índice do qubit que receberá a porta quântica\n",
    "    exponent=1 # expoente potencial para elevar os valores originais da matriz da porta\n",
    ") # a porta hadamard sempre terá probabilidades semelhantes (raramente iguais) para os estados\n",
    "result = quantum_circuit.showCircuit( # exibição do circuito quântico\n",
    "    save=False # desabilita o arquivo de salvamento do circuito\n",
    ")\n",
    "# verificação do sucesso da operação anterior\n",
    "if result: print('Engenharia quântica gravada com sucesso.') # mensagem de sucesso\n",
    "else: print('Erro na gravação da engenharia quântica.') # mensagem de fracasso\n",
    "# medição do estado quântico resultante\n",
    "measurement = quantum_circuit.measurement( # método de medição\n",
    "    repetitions=1024, # número de medições, quanto maior mais preciso porém mais lento\n",
    "    qubitIndexNames=[0, 1] # lista com os índices dos qubits que serão medidos\n",
    ")\n",
    "print(f'Resultado da medição: {measurement}') # exibe o dicionário probabilístico\n",
    "result = quantum_circuit.showMeasurement( # exibe a tabela de estados quânticos\n",
    "    measurement=measurement, # atribuição do dicionário com as medições dos estados quânticos\n",
    "    save=False # desabilita o arquivo de salvamento da tabela de estados quânticos\n",
    ")\n",
    "# verificação do sucesso da operação anterior\n",
    "if result: print('Tabela de probabilidades para os estados quânticos gerada com sucesso.') # mensagem de sucesso\n",
    "else: print('Erro na geração da tabela de probabilidades para os estados quânticos.') # mensagem de fracasso\n",
    "# plotagem gráfica do resultado probabilístico\n",
    "result = quantum_circuit.plotMeasurement( # método de plotagem\n",
    "    measurement=measurement, # atribuição do dicionário com as medições dos estados quânticos\n",
    "    bar_values=True # habilita a exibição dos valores nas barras \n",
    ")\n",
    "# verificação do sucesso da operação anterior\n",
    "if result: print('Gráfico de probabilidades para os estados quânticos gerado com sucesso.') # mensagem de sucesso\n",
    "else: print('Erro na geração do gráfico de probabilidades para os estados quânticos.') # mensagem de fracasso\n",
    "quantum_state = quantum_circuit.getMaximumProbabilityState() # captura o estado quântico mais possível\n",
    "print(f'Estado quântico de maior probabilidade: {quantum_state}') # exibe o estado quântico mais possível\n",
    "classical_state = quantum_circuit.toConvert(state=quantum_state) # converte o estado quântico em estado clássico\n",
    "print(f'Estado clássico de maior probabilidade: {classical_state}') # exibe o estado clássico mais possível"
   ]
  },
  {
   "cell_type": "markdown",
   "metadata": {},
   "source": [
    "<hr>"
   ]
  },
  {
   "cell_type": "markdown",
   "metadata": {},
   "source": [
    "<h5>Portas Quânticas Também Podem ser Utilizadas como Chave de Criptografia Quântica</h5>"
   ]
  },
  {
   "cell_type": "markdown",
   "metadata": {},
   "source": [
    "<sup><b>Criptografia de Dados</b></sup>"
   ]
  },
  {
   "cell_type": "code",
   "execution_count": 29,
   "metadata": {},
   "outputs": [
    {
     "name": "stdout",
     "output_type": "stream",
     "text": [
      "|Q0>: ───────#───H───@───@───\n",
      "             │       │   │\n",
      "|Q1>: ───────#───Z───X───@───\n",
      "             │           │\n",
      "|Q2>: ───────#───────────X───\n",
      "Engenharia quântica gravada com sucesso.\n",
      "Mensagem original: 123\n",
      "Mensagem criptografada: 10011100101011001110010101000011000111001010110011100101010000111110110010101100\n"
     ]
    }
   ],
   "source": [
    "quantum_circuit = QuantumCircuit( # instanciação do objeto responsável pela criação do circuito\n",
    "    architecture=QUANTUM_COMPUTER # arquitetura de acesso remoto a máquina quântica\n",
    ") # configurações com até 5 qubits terão qubits reais, acima de 5 o restante dos qubits serão simulados\n",
    "# seta o número de qubits (bits quânticos) na arquitetura do circuito quântico\n",
    "quantum_circuit.setQubits( # monta a grade quântica do circuito\n",
    "    nqubits=3 # número de qubits utilizados na montagem da grade quântica\n",
    ") # com o parâmetro nqubits menor ou igual a 5 todos os qubits serão reais\n",
    "quantum_circuit.addEncoderText() # porta para codificação de dados clássicos em quânticos\n",
    "# para a chave criptográfica adiciona-se portas quânticas aleatórias a grade\n",
    "# quanto maior a complexidade do circuito mais segura será a chave\n",
    "quantum_circuit.addHadamardGATE(qubitIndexName=0) # primeira porta aleatória\n",
    "quantum_circuit.addPauliZGATE(qubitIndexName=1) # segunda porta aleatória\n",
    "quantum_circuit.addControlledNOTGATE(qubitIndexName1=0, qubitIndexName2=1) # terceira porta aleatória\n",
    "quantum_circuit.addToffoliGATE(qubitIndexName1=0, qubitIndexName2=1, qubitIndexName3=2) # quarta porta aleatória\n",
    "result = quantum_circuit.showCircuit( # exibição do circuito quântico\n",
    "    save=False # desabilita o arquivo de salvamento do circuito\n",
    ")\n",
    "# verificação do sucesso da operação anterior\n",
    "if result: print('Engenharia quântica gravada com sucesso.') # mensagem de sucesso\n",
    "else: print('Erro na gravação da engenharia quântica.') # mensagem de fracasso\n",
    "original_text = '123' # mensagem de exemplo para a criptografia quântica\n",
    "# medição do estado quântico resultante\n",
    "quantum_circuit.measurement( # método de medição\n",
    "    repetitions=1024, # número de medições, quanto maior mais preciso porém mais lento\n",
    "    qubitIndexNames=[0, 1, 2], # lista com os índices dos qubits que serão medidos\n",
    "    data=original_text # atribuição do conteúdo a ser criptografado\n",
    ")\n",
    "encrypted_text = quantum_circuit.getResult() # captura o resultado da mensagem criptografada\n",
    "print(f'Mensagem original: {original_text}') # mensagem sem a criptografia\n",
    "print(f'Mensagem criptografada: {encrypted_text}') # mensagem com a criptografia"
   ]
  },
  {
   "cell_type": "markdown",
   "metadata": {},
   "source": [
    "<sup><b>Descriptografia de Dados</b></sup>"
   ]
  },
  {
   "cell_type": "code",
   "execution_count": 30,
   "metadata": {},
   "outputs": [
    {
     "name": "stdout",
     "output_type": "stream",
     "text": [
      "|Q0>: ───────H───@───@───§───\n",
      "                 │   │   │\n",
      "|Q1>: ───────Z───X───@───§───\n",
      "                     │   │\n",
      "|Q2>: ───────────────X───§───\n",
      "Engenharia quântica gravada com sucesso.\n",
      "Mensagem original: 10011100101011001110010101000011000111001010110011100101010000111110110010101100\n",
      "Mensagem descriptografada: 123\n"
     ]
    }
   ],
   "source": [
    "quantum_circuit = QuantumCircuit( # instanciação do objeto responsável pela criação do circuito\n",
    "    architecture=QUANTUM_COMPUTER # arquitetura de acesso remoto a máquina quântica\n",
    ") # configurações com até 5 qubits terão qubits reais, acima de 5 o restante dos qubits serão simulados\n",
    "# seta o número de qubits (bits quânticos) na arquitetura do circuito quântico\n",
    "quantum_circuit.setQubits( # monta a grade quântica do circuito\n",
    "    nqubits=3 # número de qubits utilizados na montagem da grade quântica\n",
    ") # com o parâmetro nqubits menor ou igual a 5 todos os qubits serão reais\n",
    "# para a chave criptográfica adiciona-se portas quânticas aleatórias a grade\n",
    "# quanto maior a complexidade do circuito mais segura será a chave\n",
    "quantum_circuit.addHadamardGATE(qubitIndexName=0) # primeira porta aleatória\n",
    "quantum_circuit.addPauliZGATE(qubitIndexName=1) # segunda porta aleatória\n",
    "quantum_circuit.addControlledNOTGATE(qubitIndexName1=0, qubitIndexName2=1) # terceira porta aleatória\n",
    "quantum_circuit.addToffoliGATE(qubitIndexName1=0, qubitIndexName2=1, qubitIndexName3=2) # quarta porta aleatória\n",
    "quantum_circuit.addDecoderText() # porta para decodificação de dados quânticos em clássicos\n",
    "result = quantum_circuit.showCircuit( # exibição do circuito quântico\n",
    "    save=False # desabilita o arquivo de salvamento do circuito\n",
    ")\n",
    "# verificação do sucesso da operação anterior\n",
    "if result: print('Engenharia quântica gravada com sucesso.') # mensagem de sucesso\n",
    "else: print('Erro na gravação da engenharia quântica.') # mensagem de fracasso\n",
    " # mensagem de exemplo para a descriptografia quântica\n",
    "original_text = '10011100101011001110010101000011000111001010110011100101010000111110110010101100'\n",
    "# medição do estado quântico resultante\n",
    "quantum_circuit.measurement( # método de medição\n",
    "    repetitions=1024, # número de medições, quanto maior mais preciso porém mais lento\n",
    "    qubitIndexNames=[0, 1, 2], # lista com os índices dos qubits que serão medidos\n",
    "    data=original_text # atribuição do conteúdo a ser descriptografado\n",
    ")\n",
    "decrypted_text = quantum_circuit.getResult() # captura o resultado da mensagem descriptografada\n",
    "print(f'Mensagem original: {original_text}') # mensagem sem a descriptografia\n",
    "print(f'Mensagem descriptografada: {decrypted_text}') # mensagem com a descriptografia"
   ]
  },
  {
   "cell_type": "markdown",
   "metadata": {},
   "source": [
    "<hr>"
   ]
  },
  {
   "cell_type": "markdown",
   "metadata": {},
   "source": [
    "<h5>Clusterização por Tunelamento Quântico</h5>"
   ]
  },
  {
   "cell_type": "code",
   "execution_count": 31,
   "metadata": {},
   "outputs": [
    {
     "name": "stdout",
     "output_type": "stream",
     "text": [
      "|Q0>: ───────|X>───|───|───|Y>───\n",
      "             │     │   │   │\n",
      "|Q1>: ───────|X>───|───|───|Y>───\n",
      "             │     │   │   │\n",
      "|Q2>: ───────|X>───|───|───|Y>───\n",
      "Engenharia quântica gravada com sucesso.\n",
      "1º grupo: [[1, 2], [3, 4], [5, 6]]\n",
      "2º grupo: [[10, 20], [30, 40], [50, 60]]\n",
      "3º grupo: [[100, 200], [300, 400], [500, 600]]\n"
     ]
    }
   ],
   "source": [
    "quantum_circuit = QuantumCircuit( # instanciação do objeto responsável pela criação do circuito\n",
    "    architecture=QUANTUM_COMPUTER # arquitetura de acesso remoto a máquina quântica\n",
    ") # configurações com até 5 qubits terão qubits reais, acima de 5 o restante dos qubits serão simulados\n",
    "# seta o número de qubits (bits quânticos) na arquitetura do circuito quântico\n",
    "quantum_circuit.setQubits( # monta a grade quântica do circuito\n",
    "    nqubits=3 # número de qubits utilizados na montagem da grade quântica\n",
    ") # com o parâmetro nqubits menor ou igual a 5 todos os qubits serão reais\n",
    "# entradas de exemplo a serem agrupadas em 3 grupos de unidades, dezenas e centenas\n",
    "inputs = [[1, 2], [10, 20], [100, 200], [3, 4], [30, 40], [300, 400], [5, 6], [50, 60], [500, 600]]\n",
    "# código de treinamento do circuito quântico\n",
    "for x in inputs: quantum_circuit.addInputData(data=x) # atribuição das amostras de entrada\n",
    "# código de inserção dos barramentos quânticos\n",
    "quantum_circuit.addEncoderBarrierX() # barramento para conversão de dados clássicos em quânticos\n",
    "# para dividir os dados o número de barramentos de tunelamento deverá ser igual ao número de grupos menos 1\n",
    "# serão usados dois barramentos de tunelamento quântico para três grupos de resultado\n",
    "quantum_circuit.addQuantumTunnelingBarrier() # primeiro barramento para a aplicação do tunelamento quântico\n",
    "quantum_circuit.addQuantumTunnelingBarrier() # segundo barramento para a aplicação do tunelamento quântico\n",
    "quantum_circuit.addDecoderBarrierY() # barramento para conversão de dados quânticos em clássicos\n",
    "# exibição do circuito quântico montado\n",
    "result = quantum_circuit.showCircuit( # exibição do circuito quântico\n",
    "    save=False # desabilita o arquivo de salvamento do circuito\n",
    ")\n",
    "# verificação do sucesso da operação anterior\n",
    "if result: print('Engenharia quântica gravada com sucesso.') # mensagem de sucesso\n",
    "else: print('Erro na gravação da engenharia quântica.') # mensagem de fracasso\n",
    "# medição do estado quântico resultante\n",
    "quantum_circuit.measurement( # método de medição\n",
    "    repetitions=1024 # número de medições, quanto maior mais preciso porém mais lento\n",
    "    # quando os índices de medição não forem definidos a medição será completa\n",
    ")\n",
    "# o resultado será uma matriz com uma lista para cada grupo\n",
    "groups = quantum_circuit.getResult() # captura o resultado do agrupamento\n",
    "for i, group in enumerate(groups): print(f'{i+1}º grupo: {group}') # loop para exibição dos grupos separados"
   ]
  },
  {
   "cell_type": "markdown",
   "metadata": {},
   "source": [
    "<hr>"
   ]
  },
  {
   "cell_type": "markdown",
   "metadata": {},
   "source": [
    "<h5>Algoritmo de Shor</h5>"
   ]
  },
  {
   "cell_type": "code",
   "execution_count": 33,
   "metadata": {},
   "outputs": [
    {
     "name": "stdout",
     "output_type": "stream",
     "text": [
      "Resultado da fatoração quântica no modelo RSA: [3, 5]\n"
     ]
    }
   ],
   "source": [
    "from Neuraline.QuantumPhysics.quantum_computing import QUANTUM_COMPUTER # importação do objeto quântico\n",
    "from Neuraline.QuantumPhysics.quantum_algorithms import Shor # importação da classe do algoritmo de shor\n",
    "shor = Shor( # instanciação do objeto da classe do algoritmo de shor\n",
    "    architecture=QUANTUM_COMPUTER # arquitetura de acesso remoto a máquina quântica\n",
    ")\n",
    "integer_number = 15 # número inteiro a ser fatorado no circuito quântico com o algoritmo de shor\n",
    "prime_factors = shor.primeNumberFactorization( # retorna uma lista com os fatores primos\n",
    "    integer=integer_number # atribuição do número inteiro que será fatorado quanticamente\n",
    ") # o número será fatorado em um circuito quântico arquitetado com o algoritmo de shor\n",
    "print(f'Resultado da fatoração quântica no modelo RSA: {prime_factors}') # exibição do resultado"
   ]
  }
 ],
 "metadata": {
  "kernelspec": {
   "display_name": "Python 3.10.4 64-bit",
   "language": "python",
   "name": "python3"
  },
  "language_info": {
   "codemirror_mode": {
    "name": "ipython",
    "version": 3
   },
   "file_extension": ".py",
   "mimetype": "text/x-python",
   "name": "python",
   "nbconvert_exporter": "python",
   "pygments_lexer": "ipython3",
   "version": "3.10.6"
  },
  "orig_nbformat": 4,
  "vscode": {
   "interpreter": {
    "hash": "916dbcbb3f70747c44a77c7bcd40155683ae19c65e1c03b4aa3499c5328201f1"
   }
  }
 },
 "nbformat": 4,
 "nbformat_minor": 2
}
