{
 "cells": [
  {
   "cell_type": "markdown",
   "metadata": {},
   "source": [
    "<h3>COMPUTAÇÃO QUÂNTICA</h3>\n",
    "<hr>\n",
    "<h4>Classificação de Dados Estruturados</h4>"
   ]
  },
  {
   "cell_type": "markdown",
   "metadata": {},
   "source": [
    "<h5>Importação das Classes e Instanciação dos Objetos</h5>"
   ]
  },
  {
   "cell_type": "code",
   "execution_count": 2,
   "metadata": {},
   "outputs": [],
   "source": [
    "# importação das classes que serão instanciadas como objeto\n",
    "from Neuraline.QuantumPhysics.quantum_computing import QUANTUM_COMPUTER # classe de acesso ao computador quântico\n",
    "from Neuraline.QuantumPhysics.quantum_computing import QuantumCircuit # classe para construção do circuito quântico\n",
    "from Neuraline.Utilities.data import DataTable, DataExploration # classes para leitura e exploração de dados\n",
    "from Neuraline.Utilities.chart import Chart # classe para plotagem de dados gráficos\n",
    "data_table, data_exploration, chart = DataTable(), DataExploration(), Chart() # instanciação dos objetos das classes"
   ]
  },
  {
   "cell_type": "markdown",
   "metadata": {},
   "source": [
    "<h5>Exibição dos Dados no Formato JSON</h5>"
   ]
  },
  {
   "cell_type": "code",
   "execution_count": 3,
   "metadata": {},
   "outputs": [
    {
     "name": "stdout",
     "output_type": "stream",
     "text": [
      "╒═══════════════╤══════════════╤═══════════════╤══════════════╤═══════════╕\n",
      "│   sepalLength │   sepalWidth │   petalLength │   petalWidth │ species   │\n",
      "╞═══════════════╪══════════════╪═══════════════╪══════════════╪═══════════╡\n",
      "│           5.1 │          3.5 │           1.4 │          0.2 │ setosa    │\n",
      "├───────────────┼──────────────┼───────────────┼──────────────┼───────────┤\n",
      "│           4.9 │          3   │           1.4 │          0.2 │ setosa    │\n",
      "├───────────────┼──────────────┼───────────────┼──────────────┼───────────┤\n",
      "│           4.7 │          3.2 │           1.3 │          0.2 │ setosa    │\n",
      "├───────────────┼──────────────┼───────────────┼──────────────┼───────────┤\n",
      "│           4.6 │          3.1 │           1.5 │          0.2 │ setosa    │\n",
      "├───────────────┼──────────────┼───────────────┼──────────────┼───────────┤\n",
      "│           5   │          3.6 │           1.4 │          0.2 │ setosa    │\n",
      "├───────────────┼──────────────┼───────────────┼──────────────┼───────────┤\n",
      "│           5.4 │          3.9 │           1.7 │          0.4 │ setosa    │\n",
      "├───────────────┼──────────────┼───────────────┼──────────────┼───────────┤\n",
      "│           4.6 │          3.4 │           1.4 │          0.3 │ setosa    │\n",
      "├───────────────┼──────────────┼───────────────┼──────────────┼───────────┤\n",
      "│           5   │          3.4 │           1.5 │          0.2 │ setosa    │\n",
      "├───────────────┼──────────────┼───────────────┼──────────────┼───────────┤\n",
      "│           4.4 │          2.9 │           1.4 │          0.2 │ setosa    │\n",
      "├───────────────┼──────────────┼───────────────┼──────────────┼───────────┤\n",
      "│           4.9 │          3.1 │           1.5 │          0.1 │ setosa    │\n",
      "╘═══════════════╧══════════════╧═══════════════╧══════════════╧═══════════╛\n",
      "Classificações possíveis: ['setosa', 'versicolor', 'virginica']\n"
     ]
    }
   ],
   "source": [
    "# código para visualização dos dados de classificação de flores com o iris-dataset\n",
    "url_data = './data/iris.json' # endereço local do arquivo de dados\n",
    "# sepalLength: altura da sépala da flor\n",
    "# sepalWidth: largura da sépala da flor\n",
    "# petalLength: altura da pétala da flor\n",
    "# petalWidth: largura da pétala da flor\n",
    "# species: nome da espécie da flor\n",
    "data_table.visualization_json_inline( # visualização dos dados em estrutura tabular\n",
    "    url_path=url_data, # atribuição do endereço do arquivo de dados\n",
    "    limit=10 # limite de registros a serem exibidos para não poluir a tela\n",
    ")\n",
    "# código para exploração dos dados\n",
    "output_types = data_exploration.getOutputTypesJSON( # captura dos valores únicos de uma coluna\n",
    "    url_path=url_data, # atribuição do endereço do arquivo de dados\n",
    "    output_column='species' # título da coluna que terá seus valores retornados sem repetição\n",
    ")\n",
    "print(f'Classificações possíveis: {sorted(output_types)}') # tipos de saída possíveis"
   ]
  },
  {
   "cell_type": "markdown",
   "metadata": {},
   "source": [
    "<h5>Separação dos Dados em Treinamento e Teste</h5>"
   ]
  },
  {
   "cell_type": "code",
   "execution_count": 4,
   "metadata": {},
   "outputs": [],
   "source": [
    "# separa um percentual dos dados para teste e outro para treinamento\n",
    "titles = ['sepalLength', 'sepalWidth', 'petalLength', 'petalWidth', 'species'] # títulos das colunas a serem lidas\n",
    "x_training, y_training, x_test, y_test = data_exploration.dataSeparationJSON( # separação dos dados em listas\n",
    "    url_path=url_data, # atribuição do endereço do arquivo de dados\n",
    "    list_inputs=titles[:-1], # títulos das colunas de entrada; da primeira a penúltima coluna\n",
    "    list_outputs=titles[-1:], # títulos das colunas de saída; somente a última coluna\n",
    "    training_percentage=.5, # 50% dos dados para treinamento\n",
    "    test_percentage=.5 # 50% dos dados para teste\n",
    ")"
   ]
  },
  {
   "cell_type": "markdown",
   "metadata": {},
   "source": [
    "<h5>Construção do Circuito Quântico</h5>"
   ]
  },
  {
   "cell_type": "code",
   "execution_count": 6,
   "metadata": {},
   "outputs": [
    {
     "name": "stdout",
     "output_type": "stream",
     "text": [
      "Circuito quântico construído com sucesso.\n"
     ]
    }
   ],
   "source": [
    "quantum_circuit = QuantumCircuit( # instanciação do objeto do circuito\n",
    "    architecture=QUANTUM_COMPUTER # arquitetura de acesso remoto ao computador quântico real\n",
    ")\n",
    "quantum_circuit.setQubits(nqubits=5) # seta 5 qubits (bits quânticos) na construção do circuito\n",
    "# código de treinamento do circuito quântico\n",
    "for x in x_training: quantum_circuit.addInputData(data=x) # atribuição das amostras de entrada\n",
    "for y in y_training: quantum_circuit.addOutputData(data=y) # atribuição das amostras de saída\n",
    "# código de inserção dos barramentos quânticos\n",
    "result1 = quantum_circuit.addEncoderBarrierX() # barramento para conversão de dados clássicos em quânticos\n",
    "result2 = quantum_circuit.addDecoderBarrierY() # barramento para conversão de dados quânticos em clássicos\n",
    "if result1 and result2: print('Circuito quântico construído com sucesso.') # mensagem de sucesso\n",
    "else: print('Erro na construção do circuito quântico.') # mensagem de fracasso"
   ]
  },
  {
   "cell_type": "markdown",
   "metadata": {},
   "source": [
    "<h5>Exibição do Circuito Quântico Montado</h5>"
   ]
  },
  {
   "cell_type": "code",
   "execution_count": 7,
   "metadata": {},
   "outputs": [
    {
     "name": "stdout",
     "output_type": "stream",
     "text": [
      "|Q0>: ───────|X>───|Y>───\n",
      "             │     │\n",
      "|Q1>: ───────|X>───|Y>───\n",
      "             │     │\n",
      "|Q2>: ───────|X>───|Y>───\n",
      "             │     │\n",
      "|Q3>: ───────|X>───|Y>───\n",
      "             │     │\n",
      "|Q4>: ───────|X>───|Y>───\n",
      "Engenharia quântica gravada com sucesso.\n"
     ]
    }
   ],
   "source": [
    "result = quantum_circuit.showCircuit() # exibição do circuito quântico\n",
    "if result: print('Engenharia quântica gravada com sucesso.') # mensagem de sucesso\n",
    "else: print('Erro na gravação da engenharia quântica.') # mensagem de fracasso"
   ]
  },
  {
   "cell_type": "markdown",
   "metadata": {},
   "source": [
    "<h5>Medição e Conversão do Resultado</h5>"
   ]
  },
  {
   "cell_type": "code",
   "execution_count": 8,
   "metadata": {},
   "outputs": [],
   "source": [
    "predicted = [] # inicialização da lista de resultados clássicos\n",
    "for x in x_test: # loop para capturar os dados de teste um a um\n",
    "    quantum_circuit.measurement( # medição do estado quântico\n",
    "        repetitions=1024, # número referente a quantidade de medidas\n",
    "        data=x # atribuição da entrada da medição\n",
    "    )\n",
    "    predicted.append( # alimentação da lista de resultados clássicos\n",
    "        quantum_circuit.getResult() # captura dos resultados quânticos convertidos em clássicos\n",
    "    )"
   ]
  },
  {
   "cell_type": "markdown",
   "metadata": {},
   "source": [
    "<h5>Exibição do Resultado Probabilístico</h5>"
   ]
  },
  {
   "cell_type": "code",
   "execution_count": 9,
   "metadata": {},
   "outputs": [
    {
     "data": {
      "image/png": "[encoded data removed]",
      "text/plain": [
       "<Figure size 576x288 with 1 Axes>"
      ]
     },
     "metadata": {
      "needs_background": "light"
     },
     "output_type": "display_data"
    },
    {
     "name": "stdout",
     "output_type": "stream",
     "text": [
      "Nível de acerto: 0.9466666666666667 - Nível de erro: 0.05333333333333334\n"
     ]
    }
   ],
   "source": [
    "hits, errors = 0, 0 # inicialização das variáveis de contagem para acertos e erros\n",
    "for y1, y2 in zip(predicted, y_test): # loop para percorrer a lista de resultados preditos e esperados\n",
    "    if y1 == y2: hits += 1 # se a predição for igual ao resultado esperado então soma 1 nos acertos\n",
    "    else: errors += 1 # se a predição for diferente do resultado esperado então soma 1 nos erros\n",
    "hits, errors = hits/(hits+errors), errors/(hits+errors) # divide os valores pelo total para converter em porcentagem\n",
    "chart.plotBAR( # plotagem do gráfico (de barras) probabilístico\n",
    "    x=['Acertos %', 'Erros %'], # valores do eixo x (horizontal)\n",
    "    y=[hits, errors], # valores do eixo y (vertical)\n",
    "    x_label='Acertos VS Erros', # descrição do eixo x (horizontal)\n",
    "    y_label='Percentual %', # descrição do eixo y (vertical)\n",
    "    title='Comparação de Acertos VS Erros' # descrição/título do gráfico\n",
    ")\n",
    "print(f'Nível de acerto: {hits} - Nível de erro: {errors}') # exibição dos resultados probabilísticos"
   ]
  },
  {
   "cell_type": "markdown",
   "metadata": {},
   "source": [
    "<hr>"
   ]
  },
  {
   "cell_type": "markdown",
   "metadata": {},
   "source": [
    "<h5>Exemplo de Salvamento da Arquitetura do Circuito Quântico</h5>"
   ]
  },
  {
   "cell_type": "code",
   "execution_count": 10,
   "metadata": {},
   "outputs": [
    {
     "name": "stdout",
     "output_type": "stream",
     "text": [
      "Modelo quântico salvo com sucesso.\n"
     ]
    }
   ],
   "source": [
    "result = quantum_circuit.saveCircuit( # salva o modelo para ser usado futuramente\n",
    "    url_path='modelo_iris' # endereço e nome do arquivo a ser salvo com o modelo\n",
    ") # será gerado um arquivo com a extensão .quantum\n",
    "if result: print('Modelo quântico salvo com sucesso.') # mensagem de sucesso\n",
    "else: print('Erro ao salvar o modelo quântico.') # mensagem de fracasso"
   ]
  },
  {
   "cell_type": "markdown",
   "metadata": {},
   "source": [
    "<hr>"
   ]
  },
  {
   "cell_type": "markdown",
   "metadata": {},
   "source": [
    "<h5>Exemplo de Carregamento de uma Arquitetura Quântica Preexistente</h5>"
   ]
  },
  {
   "cell_type": "code",
   "execution_count": 12,
   "metadata": {},
   "outputs": [
    {
     "data": {
      "image/png": "[encoded data removed]",
      "text/plain": [
       "<Figure size 576x288 with 1 Axes>"
      ]
     },
     "metadata": {
      "needs_background": "light"
     },
     "output_type": "display_data"
    },
    {
     "name": "stdout",
     "output_type": "stream",
     "text": [
      "Nível de acerto: 0.9466666666666667 - Nível de erro: 0.05333333333333334\n"
     ]
    }
   ],
   "source": [
    "# MEDIÇÃO E CONVERSÃO DO RESULTADO\n",
    "quantum_circuit = QuantumCircuit() # instanciação do objeto do circuito\n",
    "# com um modelo já pré-treinado não há mais a necessidade de montar e treinar o circuito\n",
    "'''\n",
    "Para usar modelos pré-treinados em outras máquinas ou locais\n",
    "a pasta Neuraline deverá constar no diretório do código de carregamento.\n",
    "Não é necessário instalar o Neuraline para usar modelos pré-treinados\n",
    "mas será necessário ter o Python 3.10 e as dependências previamente instaladas na máquina local.\n",
    "'''\n",
    "quantum_circuit.loadCircuit('modelo_iris') # carregamento do modelo salvo anteriormente no diretório local\n",
    "predicted = [] # inicialização da lista de resultados clássicos\n",
    "for x in x_test: # loop para capturar os dados de teste um a um\n",
    "    quantum_circuit.measurement( # medição do estado quântico\n",
    "        repetitions=1024, # número referente a quantidade de medidas\n",
    "        data=x # atribuição da entrada da medição\n",
    "    )\n",
    "    predicted.append( # alimentação da lista de resultados clássicos\n",
    "        quantum_circuit.getResult() # captura dos resultados quânticos convertidos em clássicos\n",
    "    )\n",
    "# EXIBIÇÃO DO RESULTADO PROBABILÍSTICO\n",
    "hits, errors = 0, 0 # inicialização das variáveis de contagem para acertos e erros\n",
    "for y1, y2 in zip(predicted, y_test): # loop para percorrer a lista de resultados preditos e esperados\n",
    "    if y1 == y2: hits += 1 # se a predição for igual ao resultado esperado então soma 1 nos acertos\n",
    "    else: errors += 1 # se a predição for diferente do resultado esperado então soma 1 nos erros\n",
    "hits, errors = hits/(hits+errors), errors/(hits+errors) # divide os valores pelo total para converter em porcentagem\n",
    "chart.plotBAR( # plotagem do gráfico (de barras) probabilístico\n",
    "    x=['Acertos %', 'Erros %'], # valores do eixo x (horizontal)\n",
    "    y=[hits, errors], # valores do eixo y (vertical)\n",
    "    x_label='Acertos VS Erros', # descrição do eixo x (horizontal)\n",
    "    y_label='Percentual %', # descrição do eixo y (vertical)\n",
    "    title='Comparação de Acertos VS Erros' # descrição/título do gráfico\n",
    ")\n",
    "print(f'Nível de acerto: {hits} - Nível de erro: {errors}') # exibição dos resultados probabilísticos"
   ]
  }
 ],
 "metadata": {
  "kernelspec": {
   "display_name": "Python 3.10.4 64-bit",
   "language": "python",
   "name": "python3"
  },
  "language_info": {
   "codemirror_mode": {
    "name": "ipython",
    "version": 3
   },
   "file_extension": ".py",
   "mimetype": "text/x-python",
   "name": "python",
   "nbconvert_exporter": "python",
   "pygments_lexer": "ipython3",
   "version": "3.10.6"
  },
  "orig_nbformat": 4,
  "vscode": {
   "interpreter": {
    "hash": "916dbcbb3f70747c44a77c7bcd40155683ae19c65e1c03b4aa3499c5328201f1"
   }
  }
 },
 "nbformat": 4,
 "nbformat_minor": 2
}
