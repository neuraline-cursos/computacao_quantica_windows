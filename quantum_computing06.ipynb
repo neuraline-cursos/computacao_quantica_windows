{
 "cells": [
  {
   "cell_type": "markdown",
   "metadata": {},
   "source": [
    "<h3>COMPUTAÇÃO QUÂNTICA</h3>\n",
    "<hr>\n",
    "<h4>Geração de Dados Estruturados</h4>"
   ]
  },
  {
   "cell_type": "markdown",
   "metadata": {},
   "source": [
    "<h5>Importação das Classes e Instanciação dos Objetos</h5>"
   ]
  },
  {
   "cell_type": "code",
   "execution_count": 1,
   "metadata": {},
   "outputs": [],
   "source": [
    "# importação das classes que serão instanciadas como objeto\n",
    "from Neuraline.QuantumPhysics.quantum_computing import QUANTUM_COMPUTER # classe de acesso ao computador quântico\n",
    "from Neuraline.QuantumPhysics.quantum_computing import QuantumCircuit # classe para construção do circuito quântico\n",
    "from Neuraline.Utilities.data import DataTable, DataExploration # classes para leitura e exploração de dados\n",
    "data_table, data_exploration = DataTable(), DataExploration() # instanciação dos objetos das classes"
   ]
  },
  {
   "cell_type": "markdown",
   "metadata": {},
   "source": [
    "<h5>Exibição dos Dados no Formato Excel</h5>\n",
    "<sup>Fonte da informação: <a href=\"https://asloterias.com.br/download-todos-resultados-mega-sena\">As Loterias</a></sup>"
   ]
  },
  {
   "cell_type": "code",
   "execution_count": 5,
   "metadata": {},
   "outputs": [
    {
     "name": "stdout",
     "output_type": "stream",
     "text": [
      "╒════════════╤════════════╤══════════╤══════════╤══════════╤══════════╤══════════╤══════════╕\n",
      "│   Concurso │ Data       │   bola 1 │   bola 2 │   bola 3 │   bola 4 │   bola 5 │   bola 6 │\n",
      "╞════════════╪════════════╪══════════╪══════════╪══════════╪══════════╪══════════╪══════════╡\n",
      "│       2521 │ 17/09/2022 │       59 │       23 │       28 │       55 │       33 │       38 │\n",
      "├────────────┼────────────┼──────────┼──────────┼──────────┼──────────┼──────────┼──────────┤\n",
      "│       2520 │ 15/09/2022 │       22 │       41 │        2 │       17 │       60 │       58 │\n",
      "├────────────┼────────────┼──────────┼──────────┼──────────┼──────────┼──────────┼──────────┤\n",
      "│       2519 │ 13/09/2022 │       20 │        8 │        3 │       36 │       57 │       38 │\n",
      "├────────────┼────────────┼──────────┼──────────┼──────────┼──────────┼──────────┼──────────┤\n",
      "│       2518 │ 10/09/2022 │       22 │       23 │       44 │        3 │       60 │       53 │\n",
      "├────────────┼────────────┼──────────┼──────────┼──────────┼──────────┼──────────┼──────────┤\n",
      "│       2517 │ 08/09/2022 │        6 │        1 │       22 │       16 │        5 │       39 │\n",
      "├────────────┼────────────┼──────────┼──────────┼──────────┼──────────┼──────────┼──────────┤\n",
      "│       2516 │ 03/09/2022 │       49 │       17 │       53 │       51 │        8 │       52 │\n",
      "├────────────┼────────────┼──────────┼──────────┼──────────┼──────────┼──────────┼──────────┤\n",
      "│       2515 │ 31/08/2022 │       54 │        3 │       41 │       12 │       45 │       19 │\n",
      "├────────────┼────────────┼──────────┼──────────┼──────────┼──────────┼──────────┼──────────┤\n",
      "│       2514 │ 27/08/2022 │        5 │       15 │       52 │       34 │       45 │       24 │\n",
      "├────────────┼────────────┼──────────┼──────────┼──────────┼──────────┼──────────┼──────────┤\n",
      "│       2513 │ 24/08/2022 │       50 │       21 │       13 │       46 │       35 │       19 │\n",
      "├────────────┼────────────┼──────────┼──────────┼──────────┼──────────┼──────────┼──────────┤\n",
      "│       2512 │ 20/08/2022 │       47 │       52 │       10 │       49 │       34 │        7 │\n",
      "╘════════════╧════════════╧══════════╧══════════╧══════════╧══════════╧══════════╧══════════╛\n"
     ]
    }
   ],
   "source": [
    "# endereço local do arquivo excel com os dados de sorteio da mega sena\n",
    "url_data = './data/mega_sena.xlsx' # arquivo histórico completo, você poderá atualizar para os dados do seu período atual\n",
    "result = data_table.visualization_excel_inline( # visualização dos dados em estrutura tabular\n",
    "    url_path=url_data, # atribuição do endereço do arquivo de dados\n",
    "    limit=10 # limite de registros a serem exibidos para não poluir a tela\n",
    ")\n",
    "# Concurso: número do concurso\n",
    "# Data: data do sorteio cadastrado\n",
    "# bola 1: primeira bola sorteada\n",
    "# bola 2: segunda bola sorteada\n",
    "# bola 3: terceira bola sorteada\n",
    "# bola 4: quarta bola sorteada\n",
    "# bola 5: quinta bola sorteada\n",
    "# bola 6: sexta e última bola sorteada"
   ]
  },
  {
   "cell_type": "markdown",
   "metadata": {},
   "source": [
    "<h5>Descrição Estatística dos Dados</h4>"
   ]
  },
  {
   "cell_type": "code",
   "execution_count": 7,
   "metadata": {},
   "outputs": [
    {
     "name": "stdout",
     "output_type": "stream",
     "text": [
      "╒══════════╤═══════════╤═══════════╤═══════════╤═════════════════════╤══════════════════════╕\n",
      "│ column   │   minimum │   maximum │   average │   lowest_repetition │   highest_repetition │\n",
      "╞══════════╪═══════════╪═══════════╪═══════════╪═════════════════════╪══════════════════════╡\n",
      "│ bola 1   │         1 │        60 │   30.5216 │                  15 │                   28 │\n",
      "├──────────┼───────────┼───────────┼───────────┼─────────────────────┼──────────────────────┤\n",
      "│ bola 2   │         1 │        60 │   30.0801 │                  60 │                    5 │\n",
      "├──────────┼───────────┼───────────┼───────────┼─────────────────────┼──────────────────────┤\n",
      "│ bola 3   │         1 │        60 │   30.714  │                  26 │                   27 │\n",
      "├──────────┼───────────┼───────────┼───────────┼─────────────────────┼──────────────────────┤\n",
      "│ bola 4   │         1 │        60 │   30.7977 │                   3 │                   29 │\n",
      "├──────────┼───────────┼───────────┼───────────┼─────────────────────┼──────────────────────┤\n",
      "│ bola 5   │         1 │        60 │   30.5986 │                  55 │                   35 │\n",
      "├──────────┼───────────┼───────────┼───────────┼─────────────────────┼──────────────────────┤\n",
      "│ bola 6   │         1 │        60 │   30.4284 │                  21 │                   23 │\n",
      "╘══════════╧═══════════╧═══════════╧═══════════╧═════════════════════╧══════════════════════╛\n"
     ]
    }
   ],
   "source": [
    "# geração da tabela de resultados estatísticos\n",
    "titles = ['bola 1', 'bola 2', 'bola 3', 'bola 4', 'bola 5', 'bola 6'] # colunas usadas no cálculo\n",
    "data_exploration.describeExcel( # geração do arquivo excel com os dados estatísticos das colunas selecionadas\n",
    "    url_path=url_data, # atribuição do endereço do arquivo de dados\n",
    "    titles=titles # atribuição dos títulos das colunas a serem lidas\n",
    ")\n",
    "# endereço local do arquivo excel com os dados estatísticos gerados\n",
    "url_description = './description.xlsx' # endereço do arquivo de dados estatísticos gerado no diretório atual\n",
    "result = data_table.visualization_excel_inline( # visualização dos dados em estrutura tabular\n",
    "    url_path=url_description, # atribuição do endereço do arquivo de dados estatísticos\n",
    "    titles=['column', 'minimum', 'maximum', 'average', 'lowest_repetition', 'highest_repetition'] # colunas lidas\n",
    ")"
   ]
  },
  {
   "cell_type": "markdown",
   "metadata": {},
   "source": [
    "<h5>Construção do Circuito Quântico</h5>"
   ]
  },
  {
   "cell_type": "code",
   "execution_count": 10,
   "metadata": {},
   "outputs": [
    {
     "name": "stdout",
     "output_type": "stream",
     "text": [
      "Circuito quântico construído com sucesso.\n"
     ]
    }
   ],
   "source": [
    "quantum_circuit = QuantumCircuit( # instanciação do objeto do circuito\n",
    "    architecture=QUANTUM_COMPUTER # arquitetura de acesso remoto ao computador quântico real\n",
    ")\n",
    "quantum_circuit.setQubits(nqubits=5) # seta 5 qubits (bits quânticos) na construção do circuito\n",
    "# código para leitura dos números sorteados no histórico\n",
    "inputs = data_table.read_excel( # retorna uma matriz com uma lista para cada linha do arquivo\n",
    "    url_path=url_data, # atribuição do endereço do arquivo de dados\n",
    "    titles=titles # atribuição dos títulos das colunas a serem lidas\n",
    ")\n",
    "# código de treinamento do circuito quântico\n",
    "for x in inputs: quantum_circuit.addInputData(data=x) # atribuição das amostras de entrada\n",
    "# código de inserção dos barramentos quânticos\n",
    "result1 = quantum_circuit.addEncoderBarrierX() # barramento para conversão de dados clássicos em quânticos\n",
    "result2 = quantum_circuit.addDecoderBarrierZ() # barramento para geração e conversão de dados quânticos em clássicos\n",
    "if result1 and result2: print('Circuito quântico construído com sucesso.') # mensagem de sucesso\n",
    "else: print('Erro na construção do circuito quântico.') # mensagem de fracasso"
   ]
  },
  {
   "cell_type": "markdown",
   "metadata": {},
   "source": [
    "<h5>Exibição do Circuito Quântico Montado</h5>"
   ]
  },
  {
   "cell_type": "code",
   "execution_count": 13,
   "metadata": {},
   "outputs": [
    {
     "name": "stdout",
     "output_type": "stream",
     "text": [
      "|Q0>: ───────|X>───|Z>───\n",
      "             │     │\n",
      "|Q1>: ───────|X>───|Z>───\n",
      "             │     │\n",
      "|Q2>: ───────|X>───|Z>───\n",
      "             │     │\n",
      "|Q3>: ───────|X>───|Z>───\n",
      "             │     │\n",
      "|Q4>: ───────|X>───|Z>───\n",
      "Engenharia quântica gravada com sucesso.\n"
     ]
    }
   ],
   "source": [
    "result = quantum_circuit.showCircuit() # exibição do circuito quântico\n",
    "if result: print('Engenharia quântica gravada com sucesso.') # mensagem de sucesso\n",
    "else: print('Erro na gravação da engenharia quântica.') # mensagem de fracasso"
   ]
  },
  {
   "cell_type": "markdown",
   "metadata": {},
   "source": [
    "<h5>Medição e Conversão do Resultado</h5>"
   ]
  },
  {
   "cell_type": "code",
   "execution_count": 14,
   "metadata": {},
   "outputs": [
    {
     "name": "stdout",
     "output_type": "stream",
     "text": [
      "╒══════════╤══════════╤══════════╤══════════╤══════════╤══════════╕\n",
      "│   bola 1 │   bola 2 │   bola 3 │   bola 4 │   bola 5 │   bola 6 │\n",
      "╞══════════╪══════════╪══════════╪══════════╪══════════╪══════════╡\n",
      "│        7 │        8 │       14 │       23 │       30 │       32 │\n",
      "├──────────┼──────────┼──────────┼──────────┼──────────┼──────────┤\n",
      "│       12 │       17 │       37 │       38 │       42 │       54 │\n",
      "├──────────┼──────────┼──────────┼──────────┼──────────┼──────────┤\n",
      "│        4 │       19 │       27 │       28 │       29 │       31 │\n",
      "├──────────┼──────────┼──────────┼──────────┼──────────┼──────────┤\n",
      "│       14 │       30 │       33 │       53 │       55 │       60 │\n",
      "├──────────┼──────────┼──────────┼──────────┼──────────┼──────────┤\n",
      "│        4 │        8 │       11 │       12 │       20 │       37 │\n",
      "╘══════════╧══════════╧══════════╧══════════╧══════════╧══════════╛\n"
     ]
    }
   ],
   "source": [
    "predictions = 5 # variável com o número de predições para a quantidade de sorteios desejados\n",
    "outputs = [] # inicialização da lista de resultados clássicos\n",
    "for _ in range(predictions): # loop para gerar uma sugestão de sorteio para cada predição\n",
    "    quantum_circuit.measurement( # medição do estado quântico\n",
    "        repetitions=1024, # número referente a quantidade de medidas\n",
    "    )\n",
    "    outputs.append( # alimentação da lista de resultados clássicos\n",
    "        quantum_circuit.getResult() # captura dos resultados quânticos convertidos em clássicos\n",
    "    )\n",
    "# código para eliminar números repetidos do sorteio\n",
    "minimum_column = data_table.read_excel(url_description, titles=['minimum']) # captura os valores da coluna minimum\n",
    "maximum_column = data_table.read_excel(url_description, titles=['maximum']) # captura os valores da coluna maximum\n",
    "minimum = min([x[0] for x in minimum_column]) # extrai o menor valor da lista minimum_column\n",
    "maximum = max([x[0] for x in maximum_column]) # extrai o maior valor da lista maximum_column\n",
    "middle = maximum/2 # calcula a metade do limite máximo\n",
    "temp_outputs = [] # lista de saídas temporárias\n",
    "for output in outputs: # percorre a lista de resultados preditivos\n",
    "    temp_output = [] # saída temporária\n",
    "    for number in output: # percorre o resultado preditivo\n",
    "        # se o número não constar na lista de saída temporária então será inserido\n",
    "        if number not in temp_output: temp_output.append(number) # se não existe, insere\n",
    "        else: # se o número já existir na lista de saída temporária uma nova avaliação é feita\n",
    "            # condicional para evitar que os novos números não excedam os limites mínimo e máximo do sorteio\n",
    "            if number < middle: number+=1 # se o número for menor que a metade então soma 1\n",
    "            else: number-=1 # se o número for maior ou igual a metade então subtrai 1\n",
    "            # se o novo número não constar na lista de saída temporária então será inserido\n",
    "            if number not in temp_output: temp_output.append(number) # se não existe, insere\n",
    "            else: # se o novo número já existir na lista de saída temporária uma nova avaliação será feita\n",
    "                for n in range(1, maximum+1): # loop de 1 até o número máximo permitido pelo sorteio\n",
    "                    # verifica se um dos números possíveis não consta na lista de saída temporária\n",
    "                    if n not in temp_output: # verificação de existência\n",
    "                        # ao encontrar um número que não conste na lista de saída temporária ele será inserido\n",
    "                        temp_output.append(n) # alimentação da lista de saída temporária\n",
    "                        break # encerra o loop quando o primeiro número inédito for encontrado\n",
    "    temp_outputs.append(sorted(temp_output)) # insere a saída temporária na lista de saídas temporárias\n",
    "outputs = temp_outputs # atualiza a lista de resultados preditivos com os valores ordenados sem repetição\n",
    "# código para a geração do arquivo excel com os resultados preditivos\n",
    "url_save = './sugestao_de_jogos.xlsx' # endereço do arquivo de resultados gerado no diretório atual\n",
    "data_table.generation_excel( # geração do arquivo excel com os resultados preditivos\n",
    "    url_path=url_save, # atribuição do endereço do arquivo com os resultados preditivos\n",
    "    titles=titles, # atribuição dos títulos das colunas a serem geradas\n",
    "    data=outputs, # atribuição da matriz com uma lista para cada linha do arquivo\n",
    ")\n",
    "result = data_table.visualization_excel_inline( # visualização dos dados em estrutura tabular\n",
    "    url_path=url_save, # atribuição do endereço do arquivo com os resultados preditivos\n",
    "    limit=10 # limite de registros a serem exibidos para não poluir a tela\n",
    ")"
   ]
  }
 ],
 "metadata": {
  "kernelspec": {
   "display_name": "Python 3.10.4 64-bit",
   "language": "python",
   "name": "python3"
  },
  "language_info": {
   "codemirror_mode": {
    "name": "ipython",
    "version": 3
   },
   "file_extension": ".py",
   "mimetype": "text/x-python",
   "name": "python",
   "nbconvert_exporter": "python",
   "pygments_lexer": "ipython3",
   "version": "3.10.6"
  },
  "orig_nbformat": 4,
  "vscode": {
   "interpreter": {
    "hash": "916dbcbb3f70747c44a77c7bcd40155683ae19c65e1c03b4aa3499c5328201f1"
   }
  }
 },
 "nbformat": 4,
 "nbformat_minor": 2
}
